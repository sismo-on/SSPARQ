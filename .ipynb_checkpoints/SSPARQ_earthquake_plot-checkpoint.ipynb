{
 "cells": [
  {
   "cell_type": "markdown",
   "id": "9ddd2020-48bf-4579-9825-945fcdffd0b9",
   "metadata": {},
   "source": [
    "# Importing python packages"
   ]
  },
  {
   "cell_type": "code",
   "execution_count": null,
   "id": "8d40e58e-efc2-4947-b808-455c3a239acd",
   "metadata": {},
   "outputs": [],
   "source": [
    "import glob\n",
    "from multiprocessing import Pool\n",
    "import time\n",
    "from tqdm import tqdm\n",
    "import pandas as pd"
   ]
  },
  {
   "cell_type": "markdown",
   "id": "d2adcd26-b9a9-45b2-ac84-3b7fa5358563",
   "metadata": {},
   "source": [
    "# Importing SSPARQ setup"
   ]
  },
  {
   "cell_type": "code",
   "execution_count": null,
   "id": "aefd64e5-3508-40bc-aa87-25629f904c50",
   "metadata": {},
   "outputs": [],
   "source": [
    "from parameters_py.config import (\n",
    "\t\t\t\t\tWAVEFORM_DIR,CATALOG_FILE,XML_DIR,SSPARQ_OUTPUT,num_processes\n",
    "\t\t\t\t   )"
   ]
  },
  {
   "cell_type": "markdown",
   "id": "fd8131ee-42db-44ad-aedf-c11a8e44fe5d",
   "metadata": {},
   "source": [
    "# Importing SSPARQ functions"
   ]
  },
  {
   "cell_type": "code",
   "execution_count": null,
   "id": "f48373d9-8612-453e-8541-b524a99126fa",
   "metadata": {},
   "outputs": [],
   "source": [
    "from src.plot import (\n",
    "\t\t\t\t\tplotting_event_orientation\n",
    "\t\t\t\t   )"
   ]
  },
  {
   "cell_type": "markdown",
   "id": "5c48e567-c721-45f0-ae93-c26b63ecec53",
   "metadata": {},
   "source": [
    "# Plot a comprehensive overview of a seismic event and station orientation analysis."
   ]
  },
  {
   "cell_type": "markdown",
   "id": "4747ade8-ae93-4cf2-a996-282a7a4e85a4",
   "metadata": {},
   "source": [
    "### Reading station"
   ]
  },
  {
   "cell_type": "code",
   "execution_count": null,
   "id": "3f8d55cd-c32e-48dc-a5fa-d249eb0d8583",
   "metadata": {},
   "outputs": [],
   "source": [
    "STATIONS_xml = sorted(glob.glob(XML_DIR+'*'))\n",
    "STATIONS_xml = STATIONS_xml\n",
    "\n",
    "STATIONS_lst = [i.split('/')[-1].split('.xml')[0] for i in STATIONS_xml]\n",
    "\n",
    "print('Number of stations:',len(STATIONS_lst))"
   ]
  },
  {
   "cell_type": "markdown",
   "id": "f32f73a7-3ff0-4e5a-a3f9-56a47ebf75ec",
   "metadata": {},
   "source": [
    "### Running multiprocessing function given a input list"
   ]
  },
  {
   "cell_type": "code",
   "execution_count": null,
   "id": "72c53496-9614-40b8-a1cf-abd591551b37",
   "metadata": {},
   "outputs": [],
   "source": [
    "start_time = time.time()\n",
    "\n",
    "for sta in STATIONS_lst:\n",
    "    print('Station: ',sta)\n",
    "    FEATHER_FILES_LST = [pd.read_feather(i) for i in glob.glob(SSPARQ_OUTPUT+'FEATHER_FILES/METRICS/*'+sta+'/*')]\n",
    "    station_df = pd.concat(FEATHER_FILES_LST)\n",
    "\n",
    "    with Pool(processes=20) as p:\n",
    "        max_ = len(station_df)\n",
    "        with tqdm(total=max_) as pbar:\n",
    "            for result in p.imap_unordered(plotting_event_orientation,station_df.iterrows()):\n",
    "                pbar.update()\n",
    "\n",
    "print('\\n')\n",
    "print(\"--- %.2f execution time (min) ---\" % ((time.time() - start_time)/60))\n",
    "print('\\n')"
   ]
  },
  {
   "cell_type": "code",
   "execution_count": null,
   "id": "d52b523d-6b1f-4df6-92dd-47e4d9a7f0af",
   "metadata": {},
   "outputs": [],
   "source": []
  }
 ],
 "metadata": {
  "kernelspec": {
   "display_name": "Python 3 (ipykernel)",
   "language": "python",
   "name": "python3"
  },
  "language_info": {
   "codemirror_mode": {
    "name": "ipython",
    "version": 3
   },
   "file_extension": ".py",
   "mimetype": "text/x-python",
   "name": "python",
   "nbconvert_exporter": "python",
   "pygments_lexer": "ipython3",
   "version": "3.11.9"
  }
 },
 "nbformat": 4,
 "nbformat_minor": 5
}
