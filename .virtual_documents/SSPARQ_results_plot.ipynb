


import glob
from multiprocessing import Pool
import time
from tqdm import tqdm





from parameters_py.config import (
					WAVEFORM_DIR,CATALOG_FILE,XML_DIR,SSPARQ_OUTPUT,num_processes
				   )





from src.plot import (
					station_overview_metrics
				   )








STATION_LST = sorted([i.split('/')[-1].split('.')[:2] for i in glob.glob(XML_DIR+'*')])

print('Number of stations:',len(STATION_LST))





start_time = time.time()

with Pool(processes=20) as p:
    max_ = len(STATION_LST)
    with tqdm(total=max_) as pbar:
        for result in p.imap_unordered(station_overview_metrics,STATION_LST):
            pbar.update()

print('\n')
print("--- %.2f execution time (min) ---" % ((time.time() - start_time)/60))
print('\n')






