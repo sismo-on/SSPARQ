


import glob
from multiprocessing import Pool
import time
from tqdm import tqdm
import pandas as pd





from parameters_py.config import (
					WAVEFORM_DIR,CATALOG_FILE,XML_DIR,SSPARQ_OUTPUT,num_processes
				   )





from src.plot import (
					plotting_event_orientation
				   )








STATIONS_xml = sorted(glob.glob(XML_DIR+'*'))
STATIONS_xml = STATIONS_xml

STATIONS_lst = [i.split('/')[-1].split('.xml')[0] for i in STATIONS_xml]

print('Number of stations:',len(STATIONS_lst))





start_time = time.time()

for sta in STATIONS_lst:
    print('Station: ',sta)
    FEATHER_FILES_LST = [pd.read_feather(i) for i in glob.glob(SSPARQ_OUTPUT+'FEATHER_FILES/METRICS/*'+sta+'/*')]
    station_df = pd.concat(FEATHER_FILES_LST)

    with Pool(processes=20) as p:
        max_ = len(station_df)
        with tqdm(total=max_) as pbar:
            for result in p.imap_unordered(plotting_event_orientation,station_df.iterrows()):
                pbar.update()

print('\n')
print("--- %.2f execution time (min) ---" % ((time.time() - start_time)/60))
print('\n')



