


import glob
from multiprocessing import Pool
import time
from tqdm import tqdm





from parameters_py.config import (
					WAVEFORM_DIR,CATALOG_FILE,XML_DIR,SSPARQ_OUTPUT,num_processes
				   )





from src.analysis import (
					aic_simple,find_orientation,Braunmiller_Pornsopin_algorithm,calculate_metrics
				   )

from src.utils import (
					quakeml_to_dataframe,moment_tensor_to_nodal_planes,calculate_plunge,mecclass,adjust_baz_for_ZEN,rms,energy
				   )











cat = quakeml_to_dataframe(CATALOG_FILE)
cat.tail(2)





STATIONS_xml = sorted(glob.glob(XML_DIR+'*'))[0]


STATIONS_xml





input_list = [STATIONS_xml,WAVEFORM_DIR,cat,SSPARQ_OUTPUT]





start_time = time.time()

with Pool(processes=20) as p:
    max_ = len(STATION_LST)
    with tqdm(total=max_) as pbar:
        for result in p.imap_unordered(calculate_metrics,input_list):
            pbar.update()

print('\n')
print("--- %.2f execution time (min) ---" % ((time.time() - start_time)/60))
print('\n')








cat = quakeml_to_dataframe(CATALOG_FILE)
cat.tail(2)





STATIONS_xml = sorted(glob.glob(XML_DIR+'*'))


STATIONS_xml





input_list = []
for xml_file in STATIONS_xml:
    input_list.append([xml_file,WAVEFORM_DIR,cat,SSPARQ_OUTPUT])


print("Number of stations:",len(input_list))





start_time = time.time()

for sta_input in input_list:
    calculate_metrics(sta_input)

print('\n')
print("--- %.2f execution time (min) ---" % ((time.time() - start_time)/60))
print('\n')
