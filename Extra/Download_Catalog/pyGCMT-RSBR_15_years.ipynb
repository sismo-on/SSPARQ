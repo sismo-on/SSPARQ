{
 "cells": [
  {
   "cell_type": "markdown",
   "id": "ad28d208",
   "metadata": {},
   "source": [
    "# GLOBAL CMT DOWNLOADER"
   ]
  },
  {
   "cell_type": "markdown",
   "id": "ecabd602",
   "metadata": {},
   "source": [
    "This is a python script to download directly the Global CMT solutions for a range of requested events, using the IRIS.edu query.\n",
    "\n",
    "© Foivos Karakostas - INGV Bologna, 2022"
   ]
  },
  {
   "cell_type": "code",
   "execution_count": 1,
   "id": "f19cb73d",
   "metadata": {},
   "outputs": [],
   "source": [
    "import obspy\n",
    "from obspy.clients.fdsn import Client as fdsnClient\n",
    "from obspy.core import UTCDateTime\n",
    "from obspy import read_events\n",
    "import requests\n",
    "import csv\n",
    "import xml.etree.ElementTree as ET\n",
    "from tqdm import tqdm\n",
    "import time\n",
    "import multiprocessing"
   ]
  },
  {
   "cell_type": "markdown",
   "id": "b1720bb0",
   "metadata": {},
   "source": [
    "##### Insert the region of the survey and the magnitudes of the requested events"
   ]
  },
  {
   "cell_type": "code",
   "execution_count": 2,
   "id": "9e0b6a86-c02f-4944-9f98-da19f5a573e7",
   "metadata": {},
   "outputs": [],
   "source": [
    "def generate_yearly_intervals(starttime, endtime):\n",
    "    intervals = []\n",
    "    current = starttime\n",
    "    while current.year < endtime.year:\n",
    "        year_start = UTCDateTime(current.year, 1, 1)\n",
    "        year_end = UTCDateTime(current.year, 12, 31, 23, 59, 59)\n",
    "        intervals.append((year_start, year_end))\n",
    "        current = UTCDateTime(current.year + 1, 1, 1)\n",
    "    intervals.append((UTCDateTime(endtime.year, 1, 1), endtime))\n",
    "    return intervals"
   ]
  },
  {
   "cell_type": "code",
   "execution_count": 3,
   "id": "dfaf0bf3",
   "metadata": {},
   "outputs": [],
   "source": [
    "def download_data_from_cgmt(interval):\n",
    "    starttime = interval[0]\n",
    "    endtime = interval[1]\n",
    "    \n",
    "    minlat = -90\n",
    "    maxlat = 90\n",
    "    minlon = -180\n",
    "    maxlon = 180\n",
    "    minmag = 6\n",
    "    maxmag = 9.9\n",
    "\n",
    "    \n",
    "    c_fdsn = fdsnClient('IRIS')\n",
    "    cat = c_fdsn.get_events(minlatitude = minlat, maxlatitude = maxlat, minlongitude = minlon, maxlongitude = maxlon, minmagnitude=minmag, maxmagnitude=maxmag, starttime = starttime, endtime = endtime, includeallorigins=True)\n",
    "    #print (' ')\n",
    "    #print (str(len(cat)), ' event(s) found')\n",
    "    #print (' ')\n",
    "    ns = {\"q\":\"http://quakeml.org/xmlns/quakeml/1.2\",\n",
    "           \"d\":\"http://quakeml.org/xmlns/bed/1.2\",\n",
    "            \"catalog\":\"http://anss.org/xmlns/catalog/0.1\",\n",
    "            \"tensor\":\"http://anss.org/xmlns/tensor/0.1\"}\n",
    "    line01 = []; line02 = []; line03 = []; line04 = []; line05 = []; line06 = []; line07 = []; line08 = []; line09 = []\n",
    "    line10 = []; line11 = []; line12 = []; line13 = []; failed = 0; successful = 0\n",
    "    filename = 'CMTSOLUTIONS_'+starttime.strftime('%Y_%m_%d')+'_'+endtime.strftime('%Y_%m_%d')\n",
    "    for e in range(0, len(cat)):\n",
    "        eventtime = UTCDateTime(cat[e].origins[0].time)\n",
    "        url = ('http://ds.iris.edu/spudservice/momenttensor/gcmtid/C' + str(eventtime.year).zfill(4) + str(eventtime.month).zfill(2) + str(eventtime.day).zfill(2) + str(eventtime.hour).zfill(2) + str(eventtime.minute).zfill(2) +'A/quakeml')\n",
    "        r = requests.get(url, allow_redirects=True)\n",
    "        r.raw.decode_content = True\n",
    "        local_file = 'temp.xml'\n",
    "        with open(local_file, 'wb')as file:\n",
    "            file.write(r.content)  \n",
    "        with open('temp.xml', 'r') as file :\n",
    "            filedata = file.read()\n",
    "            filedata = filedata.replace('&lt;', '<'); filedata = filedata.replace('&gt;', '>')\n",
    "            filedata = filedata.replace('<pre>', ''); filedata = filedata.replace('<body>', '')\n",
    "            filedata = filedata.replace('<html>', ''); filedata = filedata.replace('</pre>', '')\n",
    "            filedata = filedata.replace('</body>', ''); filedata = filedata.replace('</html>', '')\n",
    "        with open('temp.xml', 'w') as file:\n",
    "            file.write(filedata)\n",
    "        filetemp = open('temp.xml', 'r')\n",
    "        Lines = filetemp.readlines()\n",
    "        line2test = str(Lines[0])\n",
    "        testline = line2test[0:9]\n",
    "        if testline == 'Error 400':\n",
    "            failed = failed + 1\n",
    "            #print('Processed successfully ',str(\"{:.0f}\".format(successful).rjust(5)),' event(s) and ', str(\"{:.0f}\".format(failed).rjust(5)),' event(s) failed - TOTAL: ', str(\"{:.0f}\".format(e+1).rjust(5)), 'events or ', str(\"{:.2f}\".format(((e+1)/len(cat))*100).rjust(6)), '% done', end='\\r')\n",
    "            #time.sleep(1)\n",
    "        else:\n",
    "            successful = successful + 1\n",
    "            #print('Processed successfully ',str(\"{:.0f}\".format(successful).rjust(5)),' event(s) and ', str(\"{:.0f}\".format(failed).rjust(5)),' event(s) failed - TOTAL: ', str(\"{:.0f}\".format(e+1).rjust(5)), 'events or ', str(\"{:.2f}\".format(((e+1)/len(cat))*100).rjust(6)), '% done', end='\\r')\n",
    "            #time.sleep(1)\n",
    "            tree = ET.parse('temp.xml')\n",
    "            root = tree.getroot()\n",
    "            eventlist = root.findall('d:eventParameters',ns)\n",
    "            cat2 = read_events('temp.xml','quakeml')\n",
    "            Mwc = 0\n",
    "            Mb = 0\n",
    "            Magnitudes = cat2[0].magnitudes\n",
    "            Magtype = []\n",
    "            for o in range(0, len(Magnitudes)):\n",
    "                Magtype.append(Magnitudes[o].magnitude_type)\n",
    "                if Magtype[o] == 'Mwc':\n",
    "                    Mwc = Magnitudes[o].mag;\n",
    "                if Magtype[o] == 'Mb':\n",
    "                    Mb = Magnitudes[o].mag;\n",
    "            eventtime = cat2[0].origins[0].time;\n",
    "            strmicro = str(eventtime.microsecond);\n",
    "            line01.append(' PDEQ ' + str(eventtime.year).rjust(4) + ' ' + str(eventtime.month).rjust(2) + ' ' + str(eventtime.day).rjust(2) + ' ' + str(eventtime.hour).rjust(2) + ' ' + str(eventtime.minute).rjust(2) + ' ' + str(eventtime.second).rjust(2) + '.' + strmicro[0:2] + ' ' + str(\"{:-.4f}\".format(cat2[0].origins[0].latitude)).rjust(8) + ' ' + str(\"{:-.4f}\".format(cat2[0].origins[0].longitude)).rjust(8) + ' ' + str(cat2[0].origins[1].depth/1000) + '  ' + str(\"{:-.1f}\".format(Mb)).rjust(3) + '  ' + str(\"{:-.1f}\".format(Mwc)).rjust(3) + ' ' + cat2[0].event_descriptions[0].text)    \n",
    "            enam = str(cat2[0].origins[0].resource_id)\n",
    "            line02.append('event name:      ' + enam[50:-10])   \n",
    "            # Find the time shift\n",
    "            correctedtime = cat2[0].origins[1].time;\n",
    "            timeshift = correctedtime - eventtime\n",
    "            line03.append('time shift:      ' + str(\"{:.4f}\".format(timeshift)).rjust(7))\n",
    "            line04.append('half duration:   ' + str(\"{:.4f}\".format(cat2[0].focal_mechanisms[0].moment_tensor.source_time_function.duration/2)).rjust(7))\n",
    "            line05.append('latitude:       ' + str(\"{:-.4f}\".format(cat2[0].origins[1].latitude)).rjust(8))\n",
    "            line06.append('longitude:      ' + str(\"{:-.4f}\".format(cat2[0].origins[1].longitude)).rjust(8))\n",
    "            line07.append('depth:          ' + str(\"{:.4f}\".format(cat2[0].origins[1].depth/1000)).rjust(8))\n",
    "            line08.append('Mrr:       ' + str(\"{:-.6e}\".format(cat2[0].focal_mechanisms[0].moment_tensor.tensor.m_rr*1e7)).rjust(13))\n",
    "            line09.append('Mtt:       ' + str(\"{:-.6e}\".format(cat2[0].focal_mechanisms[0].moment_tensor.tensor.m_tt*1e7)).rjust(13))\n",
    "            line10.append('Mpp:       ' + str(\"{:-.6e}\".format(cat2[0].focal_mechanisms[0].moment_tensor.tensor.m_pp*1e7)).rjust(13))\n",
    "            line11.append('Mrt:       ' + str(\"{:-.6e}\".format(cat2[0].focal_mechanisms[0].moment_tensor.tensor.m_rt*1e7)).rjust(13))\n",
    "            line12.append('Mrp:       ' + str(\"{:-.6e}\".format(cat2[0].focal_mechanisms[0].moment_tensor.tensor.m_rp*1e7)).rjust(13))\n",
    "            line13.append('Mtp:       ' + str(\"{:-.6e}\".format(cat2[0].focal_mechanisms[0].moment_tensor.tensor.m_tp*1e7)).rjust(13))\n",
    "    with open(filename, 'w') as f:\n",
    "        for tt in range(0, len(line01)):\n",
    "            f.write(line01[tt]); f.write('\\n'); f.write(line02[tt]); f.write('\\n'); f.write(line03[tt]); f.write('\\n')\n",
    "            f.write(line04[tt]); f.write('\\n'); f.write(line05[tt]); f.write('\\n'); f.write(line06[tt]); f.write('\\n')\n",
    "            f.write(line07[tt]); f.write('\\n'); f.write(line08[tt]); f.write('\\n'); f.write(line09[tt]); f.write('\\n')\n",
    "            f.write(line10[tt]); f.write('\\n'); f.write(line11[tt]); f.write('\\n'); f.write(line12[tt]); f.write('\\n')\n",
    "            f.write(line13[tt]); f.write('\\n'); f.write('\\n')    \n"
   ]
  },
  {
   "cell_type": "code",
   "execution_count": 7,
   "id": "9ce05a3d-2890-4400-a546-b65a247ef067",
   "metadata": {},
   "outputs": [],
   "source": [
    "intervals = generate_yearly_intervals(UTCDateTime(2025, 1, 1), UTCDateTime(2025, 3, 31))\n"
   ]
  },
  {
   "cell_type": "code",
   "execution_count": 8,
   "id": "fd15a904-8c2c-4ba6-8ba6-e8069cfe9d5c",
   "metadata": {},
   "outputs": [
    {
     "name": "stderr",
     "output_type": "stream",
     "text": [
      "100%|██████████████████████████████████████████████████████████████████████████████████| 1/1 [00:11<00:00, 11.48s/it]"
     ]
    },
    {
     "name": "stdout",
     "output_type": "stream",
     "text": [
      "Total processing time: 11.49 seconds\n"
     ]
    },
    {
     "name": "stderr",
     "output_type": "stream",
     "text": [
      "\n"
     ]
    }
   ],
   "source": [
    "start_time = time.time()\n",
    "with multiprocessing.Pool(processes=1) as pool:\n",
    "    list(tqdm(pool.imap(download_data_from_cgmt, intervals), total=len(intervals)))\n",
    "    \n",
    "print(f\"Total processing time: {time.time() - start_time:.2f} seconds\")"
   ]
  },
  {
   "cell_type": "markdown",
   "id": "26403257",
   "metadata": {},
   "source": [
    "##### Generate a map of the focal mechanisms (beachballs) with pyGMT"
   ]
  },
  {
   "cell_type": "code",
   "execution_count": 6,
   "id": "2c6c15da",
   "metadata": {},
   "outputs": [
    {
     "ename": "ModuleNotFoundError",
     "evalue": "No module named 'pygmt'",
     "output_type": "error",
     "traceback": [
      "\u001b[0;31m---------------------------------------------------------------------------\u001b[0m",
      "\u001b[0;31mModuleNotFoundError\u001b[0m                       Traceback (most recent call last)",
      "Cell \u001b[0;32mIn[6], line 1\u001b[0m\n\u001b[0;32m----> 1\u001b[0m \u001b[38;5;28;01mimport\u001b[39;00m \u001b[38;5;21;01mpygmt\u001b[39;00m\n\u001b[1;32m      2\u001b[0m \u001b[38;5;28;01mimport\u001b[39;00m \u001b[38;5;21;01mmatplotlib\u001b[39;00m\n\u001b[1;32m      3\u001b[0m latcen \u001b[38;5;241m=\u001b[39m (maxlat \u001b[38;5;241m+\u001b[39m minlat)\u001b[38;5;241m/\u001b[39m\u001b[38;5;241m2\u001b[39m; loncen \u001b[38;5;241m=\u001b[39m (maxlon \u001b[38;5;241m+\u001b[39m minlon)\u001b[38;5;241m/\u001b[39m\u001b[38;5;241m2\u001b[39m;\n",
      "\u001b[0;31mModuleNotFoundError\u001b[0m: No module named 'pygmt'"
     ]
    }
   ],
   "source": [
    "import pygmt\n",
    "import matplotlib\n",
    "latcen = (maxlat + minlat)/2; loncen = (maxlon + minlon)/2;\n",
    "grid = pygmt.datasets.load_earth_relief(resolution=\"01m\", region=[minlon, maxlon, minlat, maxlat])\n",
    "fig = pygmt.Figure()\n",
    "pygmt.makecpt(series=[-8000, 8000], cmap='geo')\n",
    "projection_str = ['Cyl_stere/' + str(loncen) + '/' + str(latcen) + '/12c']\n",
    "fig.grdimage(grid=grid, projection=projection_str, frame=\"a\", cmap=True)\n",
    "cat = obspy.read_events('CMTSOLUTIONS*')\n",
    "cmap2 = matplotlib.cm.get_cmap('jet')\n",
    "for e in range (0, len(cat)):\n",
    "    moment_tensor = cat[e].focal_mechanisms[0].moment_tensor;\n",
    "    longitude = cat[e].origins[0].longitude;\n",
    "    latitude = cat[e].origins[0].latitude;\n",
    "    depth = cat[e].origins[0].depth;\n",
    "    mrr = moment_tensor.tensor.m_rr;\n",
    "    mtt = moment_tensor.tensor.m_tt;\n",
    "    mpp = moment_tensor.tensor.m_pp;\n",
    "    mrt = moment_tensor.tensor.m_rt;\n",
    "    mrp = moment_tensor.tensor.m_rp;\n",
    "    mtp = moment_tensor.tensor.m_tp;\n",
    "    mt = [mrr, mtt, mpp, mrt, mrp, mtp];\n",
    "    rgba = cmap2(depth/200000);\n",
    "    colorhex = matplotlib.colors.to_hex(rgba, keep_alpha=True)\n",
    "    focal_mechanism = dict(mrr=mrr, mtt=mtt, mff=mpp, mrt=mrt, mrf=mrp, mtf=mtp, exponent=17);\n",
    "    fig.meca(focal_mechanism, scale=\"0.07c\", longitude=longitude, latitude=latitude, depth=depth, G=colorhex);\n",
    "pygmt.makecpt(series=[0, 200], cmap='jet');\n",
    "fig.colorbar(frame='af+l\"Depth (km)\"')\n",
    "fig.show()"
   ]
  },
  {
   "cell_type": "code",
   "execution_count": null,
   "id": "fa3e2316-c0aa-4ff8-85b1-b789a35c4243",
   "metadata": {},
   "outputs": [],
   "source": []
  }
 ],
 "metadata": {
  "kernelspec": {
   "display_name": "Python 3 (ipykernel)",
   "language": "python",
   "name": "python3"
  },
  "language_info": {
   "codemirror_mode": {
    "name": "ipython",
    "version": 3
   },
   "file_extension": ".py",
   "mimetype": "text/x-python",
   "name": "python",
   "nbconvert_exporter": "python",
   "pygments_lexer": "ipython3",
   "version": "3.12.2"
  }
 },
 "nbformat": 4,
 "nbformat_minor": 5
}
