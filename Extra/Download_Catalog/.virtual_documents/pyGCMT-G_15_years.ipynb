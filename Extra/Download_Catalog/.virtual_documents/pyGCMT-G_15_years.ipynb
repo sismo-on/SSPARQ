





import obspy
from obspy.clients.fdsn import Client as fdsnClient
from obspy.core import UTCDateTime
from obspy import read_events
import requests
import csv
import xml.etree.ElementTree as ET
from tqdm import tqdm
import time
import multiprocessing
from glob import glob





def generate_yearly_intervals(starttime, endtime):
    intervals = []
    current = starttime
    while current.year < endtime.year:
        year_start = UTCDateTime(current.year, 1, 1)
        year_end = UTCDateTime(current.year, 12, 31, 23, 59, 59)
        intervals.append((year_start, year_end))
        current = UTCDateTime(current.year + 1, 1, 1)
    intervals.append((UTCDateTime(endtime.year, 1, 1), endtime))
    return intervals


def download_data_from_cgmt(interval):
    starttime = interval[0]
    endtime = interval[1]
    
    minlat = -90
    maxlat = 90
    minlon = -180
    maxlon = 180
    minmag = 6
    maxmag = 9.9

    
    c_fdsn = fdsnClient('IRIS')
    cat = c_fdsn.get_events(minlatitude = minlat, maxlatitude = maxlat, minlongitude = minlon, maxlongitude = maxlon, minmagnitude=minmag, maxmagnitude=maxmag, starttime = starttime, endtime = endtime, includeallorigins=True)
    #print (' ')
    #print (str(len(cat)), ' event(s) found')
    #print (' ')
    ns = {"q":"http://quakeml.org/xmlns/quakeml/1.2",
           "d":"http://quakeml.org/xmlns/bed/1.2",
            "catalog":"http://anss.org/xmlns/catalog/0.1",
            "tensor":"http://anss.org/xmlns/tensor/0.1"}
    line01 = []; line02 = []; line03 = []; line04 = []; line05 = []; line06 = []; line07 = []; line08 = []; line09 = []
    line10 = []; line11 = []; line12 = []; line13 = []; failed = 0; successful = 0
    filename = 'CMTSOLUTIONS_'+starttime.strftime('%Y_%m_%d')+'_'+endtime.strftime('%Y_%m_%d')
    for e in range(0, len(cat)):
        eventtime = UTCDateTime(cat[e].origins[0].time)
        url = ('http://ds.iris.edu/spudservice/momenttensor/gcmtid/C' + str(eventtime.year).zfill(4) + str(eventtime.month).zfill(2) + str(eventtime.day).zfill(2) + str(eventtime.hour).zfill(2) + str(eventtime.minute).zfill(2) +'A/quakeml')
        r = requests.get(url, allow_redirects=True)
        r.raw.decode_content = True
        local_file = 'temp.xml'
        with open(local_file, 'wb')as file:
            file.write(r.content)  
        with open('temp.xml', 'r') as file :
            filedata = file.read()
            filedata = filedata.replace('&lt;', '<'); filedata = filedata.replace('&gt;', '>')
            filedata = filedata.replace('<pre>', ''); filedata = filedata.replace('<body>', '')
            filedata = filedata.replace('<html>', ''); filedata = filedata.replace('</pre>', '')
            filedata = filedata.replace('</body>', ''); filedata = filedata.replace('</html>', '')
        with open('temp.xml', 'w') as file:
            file.write(filedata)
        filetemp = open('temp.xml', 'r')
        Lines = filetemp.readlines()
        line2test = str(Lines[0])
        testline = line2test[0:9]
        if testline == 'Error 400':
            failed = failed + 1
            #print('Processed successfully ',str("{:.0f}".format(successful).rjust(5)),' event(s) and ', str("{:.0f}".format(failed).rjust(5)),' event(s) failed - TOTAL: ', str("{:.0f}".format(e+1).rjust(5)), 'events or ', str("{:.2f}".format(((e+1)/len(cat))*100).rjust(6)), '% done', end='\r')
            #time.sleep(1)
        else:
            successful = successful + 1
            #print('Processed successfully ',str("{:.0f}".format(successful).rjust(5)),' event(s) and ', str("{:.0f}".format(failed).rjust(5)),' event(s) failed - TOTAL: ', str("{:.0f}".format(e+1).rjust(5)), 'events or ', str("{:.2f}".format(((e+1)/len(cat))*100).rjust(6)), '% done', end='\r')
            #time.sleep(1)
            tree = ET.parse('temp.xml')
            root = tree.getroot()
            eventlist = root.findall('d:eventParameters',ns)
            cat2 = read_events('temp.xml','quakeml')
            Mwc = 0
            Mb = 0
            Magnitudes = cat2[0].magnitudes
            Magtype = []
            for o in range(0, len(Magnitudes)):
                Magtype.append(Magnitudes[o].magnitude_type)
                if Magtype[o] == 'Mwc':
                    Mwc = Magnitudes[o].mag;
                if Magtype[o] == 'Mb':
                    Mb = Magnitudes[o].mag;
            eventtime = cat2[0].origins[0].time;
            strmicro = str(eventtime.microsecond);
            line01.append(' PDEQ ' + str(eventtime.year).rjust(4) + ' ' + str(eventtime.month).rjust(2) + ' ' + str(eventtime.day).rjust(2) + ' ' + str(eventtime.hour).rjust(2) + ' ' + str(eventtime.minute).rjust(2) + ' ' + str(eventtime.second).rjust(2) + '.' + strmicro[0:2] + ' ' + str("{:-.4f}".format(cat2[0].origins[0].latitude)).rjust(8) + ' ' + str("{:-.4f}".format(cat2[0].origins[0].longitude)).rjust(8) + ' ' + str(cat2[0].origins[1].depth/1000) + '  ' + str("{:-.1f}".format(Mb)).rjust(3) + '  ' + str("{:-.1f}".format(Mwc)).rjust(3) + ' ' + cat2[0].event_descriptions[0].text)    
            enam = str(cat2[0].origins[0].resource_id)
            line02.append('event name:      ' + enam[50:-10])   
            # Find the time shift
            correctedtime = cat2[0].origins[1].time;
            timeshift = correctedtime - eventtime
            line03.append('time shift:      ' + str("{:.4f}".format(timeshift)).rjust(7))
            line04.append('half duration:   ' + str("{:.4f}".format(cat2[0].focal_mechanisms[0].moment_tensor.source_time_function.duration/2)).rjust(7))
            line05.append('latitude:       ' + str("{:-.4f}".format(cat2[0].origins[1].latitude)).rjust(8))
            line06.append('longitude:      ' + str("{:-.4f}".format(cat2[0].origins[1].longitude)).rjust(8))
            line07.append('depth:          ' + str("{:.4f}".format(cat2[0].origins[1].depth/1000)).rjust(8))
            line08.append('Mrr:       ' + str("{:-.6e}".format(cat2[0].focal_mechanisms[0].moment_tensor.tensor.m_rr*1e7)).rjust(13))
            line09.append('Mtt:       ' + str("{:-.6e}".format(cat2[0].focal_mechanisms[0].moment_tensor.tensor.m_tt*1e7)).rjust(13))
            line10.append('Mpp:       ' + str("{:-.6e}".format(cat2[0].focal_mechanisms[0].moment_tensor.tensor.m_pp*1e7)).rjust(13))
            line11.append('Mrt:       ' + str("{:-.6e}".format(cat2[0].focal_mechanisms[0].moment_tensor.tensor.m_rt*1e7)).rjust(13))
            line12.append('Mrp:       ' + str("{:-.6e}".format(cat2[0].focal_mechanisms[0].moment_tensor.tensor.m_rp*1e7)).rjust(13))
            line13.append('Mtp:       ' + str("{:-.6e}".format(cat2[0].focal_mechanisms[0].moment_tensor.tensor.m_tp*1e7)).rjust(13))
    with open(filename, 'w') as f:
        for tt in range(0, len(line01)):
            f.write(line01[tt]); f.write('\n'); f.write(line02[tt]); f.write('\n'); f.write(line03[tt]); f.write('\n')
            f.write(line04[tt]); f.write('\n'); f.write(line05[tt]); f.write('\n'); f.write(line06[tt]); f.write('\n')
            f.write(line07[tt]); f.write('\n'); f.write(line08[tt]); f.write('\n'); f.write(line09[tt]); f.write('\n')
            f.write(line10[tt]); f.write('\n'); f.write(line11[tt]); f.write('\n'); f.write(line12[tt]); f.write('\n')
            f.write(line13[tt]); f.write('\n'); f.write('\n')    



intervals = generate_yearly_intervals(UTCDateTime(2005, 1, 1), UTCDateTime(2015, 3, 31))


start_time = time.time()
with multiprocessing.Pool(processes=1) as pool:
    list(tqdm(pool.imap(download_data_from_cgmt, intervals), total=len(intervals)))
    
print(f"Total processing time: {time.time() - start_time:.2f} seconds")


CMTSOLUTIONS_files = sorted(glob('CMTSOLUTIONS_*'))


CMTSOLUTIONS = obspy.read_events(CMTSOLUTIONS_files[0])

for file_solution in CMTSOLUTIONS_files[1:]:
    CMTSOLUTIONS+= obspy.read_events(file_solution)


CMTSOLUTIONS.write('CMTSOLUTIONS_2005_2015',format="QUAKEML")



