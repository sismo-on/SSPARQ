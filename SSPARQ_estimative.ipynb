{
 "cells": [
  {
   "cell_type": "markdown",
   "id": "9ddd2020-48bf-4579-9825-945fcdffd0b9",
   "metadata": {},
   "source": [
    "# Importing python packages"
   ]
  },
  {
   "cell_type": "code",
   "execution_count": null,
   "id": "8d40e58e-efc2-4947-b808-455c3a239acd",
   "metadata": {},
   "outputs": [],
   "source": [
    "import glob\n",
    "from multiprocessing import Pool\n",
    "import time\n",
    "from tqdm import tqdm"
   ]
  },
  {
   "cell_type": "markdown",
   "id": "d2adcd26-b9a9-45b2-ac84-3b7fa5358563",
   "metadata": {},
   "source": [
    "# Importing SSPARQ setup"
   ]
  },
  {
   "cell_type": "code",
   "execution_count": null,
   "id": "aefd64e5-3508-40bc-aa87-25629f904c50",
   "metadata": {},
   "outputs": [],
   "source": [
    "from parameters_py.config import (\n",
    "\t\t\t\t\tWAVEFORM_DIR,CATALOG_FILE,XML_DIR,SSPARQ_OUTPUT,num_processes\n",
    "\t\t\t\t   )"
   ]
  },
  {
   "cell_type": "markdown",
   "id": "fd8131ee-42db-44ad-aedf-c11a8e44fe5d",
   "metadata": {},
   "source": [
    "# Importing SSPARQ functions"
   ]
  },
  {
   "cell_type": "code",
   "execution_count": null,
   "id": "f48373d9-8612-453e-8541-b524a99126fa",
   "metadata": {},
   "outputs": [],
   "source": [
    "from src.analysis import (\n",
    "\t\t\t\t\taic_simple,find_orientation,Braunmiller_Pornsopin_algorithm,calculate_metrics\n",
    "\t\t\t\t   )\n",
    "\n",
    "from src.utils import (\n",
    "\t\t\t\t\tquakeml_to_dataframe,moment_tensor_to_nodal_planes,calculate_plunge,mecclass,adjust_baz_for_ZEN,rms,energy\n",
    "\t\t\t\t   )"
   ]
  },
  {
   "cell_type": "markdown",
   "id": "5c48e567-c721-45f0-ae93-c26b63ecec53",
   "metadata": {},
   "source": [
    "# Main program"
   ]
  },
  {
   "cell_type": "markdown",
   "id": "a2e1e276-206d-4f68-b364-b132d4e628f2",
   "metadata": {},
   "source": [
    "## Example I: One station"
   ]
  },
  {
   "cell_type": "markdown",
   "id": "d855a2d6-98ff-49a0-9553-797acc65979d",
   "metadata": {},
   "source": [
    "### Reading catalog"
   ]
  },
  {
   "cell_type": "code",
   "execution_count": null,
   "id": "5816da9d-0a59-47f2-913b-920bfea570e1",
   "metadata": {},
   "outputs": [],
   "source": [
    "cat = quakeml_to_dataframe(CATALOG_FILE)\n",
    "cat.tail(2)"
   ]
  },
  {
   "cell_type": "markdown",
   "id": "4747ade8-ae93-4cf2-a996-282a7a4e85a4",
   "metadata": {},
   "source": [
    "### Reading station"
   ]
  },
  {
   "cell_type": "code",
   "execution_count": null,
   "id": "3f8d55cd-c32e-48dc-a5fa-d249eb0d8583",
   "metadata": {},
   "outputs": [],
   "source": [
    "STATIONS_xml = sorted(glob.glob(XML_DIR+'*'))[0]"
   ]
  },
  {
   "cell_type": "code",
   "execution_count": null,
   "id": "1a4eb8bf-7618-4643-987f-deb4973dffa2",
   "metadata": {},
   "outputs": [],
   "source": [
    "STATIONS_xml"
   ]
  },
  {
   "cell_type": "markdown",
   "id": "28368e53-7a2d-4acd-a368-aef64c5149ed",
   "metadata": {},
   "source": [
    "### Creating input list for one station"
   ]
  },
  {
   "cell_type": "code",
   "execution_count": null,
   "id": "d6c632f4-5e97-4fcd-b2e8-4cf0a7c39893",
   "metadata": {},
   "outputs": [],
   "source": [
    "input_list = [STATIONS_xml,WAVEFORM_DIR,cat,SSPARQ_OUTPUT]"
   ]
  },
  {
   "cell_type": "markdown",
   "id": "89f4d7ba-5c63-4a6c-8ee7-375587431e15",
   "metadata": {},
   "source": [
    "### Running multiprocessing function given a input list"
   ]
  },
  {
   "cell_type": "code",
   "execution_count": null,
   "id": "2acc2a0d-5c61-4d83-8cc7-28f7a2c6a441",
   "metadata": {},
   "outputs": [],
   "source": [
    "start_time = time.time()\n",
    "\n",
    "calculate_metrics(input_list)\n",
    "\n",
    "print('\\n')\n",
    "print(\"--- %.2f execution time (min) ---\" % ((time.time() - start_time)/60))\n",
    "print('\\n')"
   ]
  },
  {
   "cell_type": "markdown",
   "id": "966c2e6e-3917-409c-8508-acfeb6931036",
   "metadata": {},
   "source": [
    "## Example II: Multiple stations (determined by the number of files in the XML_DIR)"
   ]
  },
  {
   "cell_type": "markdown",
   "id": "2d6981a5-84fd-465c-af10-ad1a95ce5c30",
   "metadata": {},
   "source": [
    "### Reading catalog"
   ]
  },
  {
   "cell_type": "code",
   "execution_count": null,
   "id": "a6e6c9e4-693b-47ab-a8b5-e4c9ea7f06ab",
   "metadata": {},
   "outputs": [],
   "source": [
    "cat = quakeml_to_dataframe(CATALOG_FILE)\n",
    "cat.tail(2)"
   ]
  },
  {
   "cell_type": "markdown",
   "id": "79face62-c6f5-4f82-9868-9934273801ad",
   "metadata": {},
   "source": [
    "### Reading station"
   ]
  },
  {
   "cell_type": "code",
   "execution_count": null,
   "id": "5639c8aa-a4bf-48ae-aded-87182b52a014",
   "metadata": {},
   "outputs": [],
   "source": [
    "STATIONS_xml = sorted(glob.glob(XML_DIR+'*'))"
   ]
  },
  {
   "cell_type": "code",
   "execution_count": null,
   "id": "8263b622-06e4-4f62-893a-a6741a6f25a1",
   "metadata": {},
   "outputs": [],
   "source": [
    "STATIONS_xml"
   ]
  },
  {
   "cell_type": "markdown",
   "id": "e1d628f9-337b-4bac-a88b-eaaa1a59f1d7",
   "metadata": {},
   "source": [
    "### Creating input list for one station"
   ]
  },
  {
   "cell_type": "code",
   "execution_count": null,
   "id": "ab57a8ee-5131-4fba-b02a-ad5cc8d89325",
   "metadata": {},
   "outputs": [],
   "source": [
    "input_list = []\n",
    "for xml_file in STATIONS_xml:\n",
    "    input_list.append([xml_file,WAVEFORM_DIR,cat,SSPARQ_OUTPUT])"
   ]
  },
  {
   "cell_type": "code",
   "execution_count": null,
   "id": "fa540801-7fe5-49dd-9327-3c149da9c321",
   "metadata": {},
   "outputs": [],
   "source": [
    "print(\"Number of stations:\",len(input_list))"
   ]
  },
  {
   "cell_type": "markdown",
   "id": "f32f73a7-3ff0-4e5a-a3f9-56a47ebf75ec",
   "metadata": {},
   "source": [
    "### Running multiprocessing function given a input list"
   ]
  },
  {
   "cell_type": "code",
   "execution_count": null,
   "id": "d0f065f1-e0ef-4582-ad27-0d02e998e879",
   "metadata": {},
   "outputs": [],
   "source": [
    "start_time = time.time()\n",
    "\n",
    "for sta_input in input_list:\n",
    "    calculate_metrics(sta_input)\n",
    "\n",
    "print('\\n')\n",
    "print(\"--- %.2f execution time (min) ---\" % ((time.time() - start_time)/60))\n",
    "print('\\n')"
   ]
  }
 ],
 "metadata": {
  "kernelspec": {
   "display_name": "Python 3 (ipykernel)",
   "language": "python",
   "name": "python3"
  },
  "language_info": {
   "codemirror_mode": {
    "name": "ipython",
    "version": 3
   },
   "file_extension": ".py",
   "mimetype": "text/x-python",
   "name": "python",
   "nbconvert_exporter": "python",
   "pygments_lexer": "ipython3",
   "version": "3.11.9"
  }
 },
 "nbformat": 4,
 "nbformat_minor": 5
}
